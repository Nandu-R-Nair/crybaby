{
 "cells": [
  {
   "cell_type": "code",
   "execution_count": null,
   "id": "c0d90528",
   "metadata": {},
   "outputs": [],
   "source": [
    "import audioread\n",
    "import sounddevice as sd\n",
    "import struct\n",
    "import wave\n",
    "import contextlib\n",
    "import sys\n",
    "import glob\n",
    "from scipy.io import wavfile as wav\n",
    "import matplotlib.pyplot as plt\n",
    "import IPython.display as ipd\n",
    "import numpy as np\n",
    "import pandas as pd\n",
    "import librosa\n",
    "import wave\n",
    "import joblib\n",
    "from scipy.io import wavfile as wav\n",
    "from sklearn.ensemble import RandomForestClassifier\n",
    "from sklearn.decomposition import PCA\n",
    "out='D:/mainproject/Data/wav/'\n",
    "inpath=input(\"PATH  :   \")\n",
    "# s=input(\"PATH  :   \")\n",
    "# l= r'D:/mainproject/Data/wav/'\n",
    "# inpath=l+s\n",
    "# print(inpath)\n",
    "ext = (inpath.split('/')[-1]).split('.')[-1]"
   ]
  },
  {
   "cell_type": "code",
   "execution_count": null,
   "id": "0ce75f85",
   "metadata": {},
   "outputs": [],
   "source": []
  },
  {
   "cell_type": "code",
   "execution_count": null,
   "id": "2da411d2",
   "metadata": {},
   "outputs": [],
   "source": []
  }
 ],
 "metadata": {
  "kernelspec": {
   "display_name": "Python 3",
   "language": "python",
   "name": "python3"
  },
  "language_info": {
   "codemirror_mode": {
    "name": "ipython",
    "version": 3
   },
   "file_extension": ".py",
   "mimetype": "text/x-python",
   "name": "python",
   "nbconvert_exporter": "python",
   "pygments_lexer": "ipython3",
   "version": "3.6.6"
  }
 },
 "nbformat": 4,
 "nbformat_minor": 5
}
