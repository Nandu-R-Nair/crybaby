{
 "cells": [
  {
   "cell_type": "code",
   "execution_count": null,
   "id": "54023d7c",
   "metadata": {},
   "outputs": [],
   "source": [
    "%run myfile.py "
   ]
  },
  {
   "cell_type": "code",
   "execution_count": null,
   "id": "35f0d966",
   "metadata": {},
   "outputs": [],
   "source": [
    "%run myfile.py "
   ]
  },
  {
   "cell_type": "code",
   "execution_count": null,
   "id": "a9f4af1c",
   "metadata": {},
   "outputs": [],
   "source": [
    "%run myfile.py "
   ]
  },
  {
   "cell_type": "code",
   "execution_count": null,
   "id": "f5d85c0f",
   "metadata": {},
   "outputs": [],
   "source": [
    "%run myfile.py "
   ]
  },
  {
   "cell_type": "code",
   "execution_count": null,
   "id": "3471dda8",
   "metadata": {},
   "outputs": [],
   "source": []
  }
 ],
 "metadata": {
  "kernelspec": {
   "display_name": "Python 3",
   "language": "python",
   "name": "python3"
  },
  "language_info": {
   "codemirror_mode": {
    "name": "ipython",
    "version": 3
   },
   "file_extension": ".py",
   "mimetype": "text/x-python",
   "name": "python",
   "nbconvert_exporter": "python",
   "pygments_lexer": "ipython3",
   "version": "3.6.6"
  }
 },
 "nbformat": 4,
 "nbformat_minor": 5
}
